{
 "cells": [
  {
   "cell_type": "code",
   "execution_count": 1,
   "id": "28491a2d",
   "metadata": {},
   "outputs": [],
   "source": [
    "from itertools import permutations\n",
    "\n",
    "perms = list(permutations(range(4))) # List of all the permutations of 0,1,2,3, represented as lists"
   ]
  },
  {
   "cell_type": "markdown",
   "id": "26e8c907",
   "metadata": {},
   "source": [
    "# List of all possible adjacencies between two colour classes of size four"
   ]
  },
  {
   "cell_type": "markdown",
   "id": "50c109e0",
   "metadata": {},
   "source": [
    "In this notebook, all frozen-colourings will have four vertices per colour class and will be minimal, that is, any two colour classes induce a **tree** on eight vertices."
   ]
  },
  {
   "cell_type": "markdown",
   "id": "244d2be0",
   "metadata": {},
   "source": [
<<<<<<< HEAD
    "Given two sets $X$ and $Y$ of size four, we call *labelled adjacency* any tree of maximum degree 3 on $X \cup Y$ (Recall that in a triangle free-graph with a frozen $k$-colouring and $k > 2$, no vertex dominates a colour class, so the labelled adjacencies are all the possible subtrees induced by two colour classes). Each labelled adjacency is encoded as a 4-tuple of lists, whose ith element is the neighborhood of the ith vertex of $X$ in $Y$.\n",
=======
    "Given two sets $X$ and $Y$ of size four, we call *labelled adjacency* any tree of maximum degree 3 on $X \\cup Y$ (Recall that in a triangle free-graph with a frozen $k$-colouring and $k > 2$, no vertex dominates a colour class, so the labelled adjacencies are all the possible subtrees induced by two colour classes). Each labelled adjacency is encoded as a 4-tuple of lists, whose $i$-th element is the neighborhood of the $i$-th vertex of $X$ in $Y$.\n",
>>>>>>> 269879b (math mode fixed)
    "\n",
    "To save computing time we will want to exclude certain symmetries. The first type of symmetry we consider is the relabelling of the vertices within $X$ or $Y$. The second type is the exchange of $X$ and $Y$.\n",
    "\n",
    "We call *directed adjacencies* the labelled adjacencies considered up to symmetry of the first type, and *adjacency pattern* the labelled adjacencies considered up to symmetry of the first and second type.\n",
    "\n",
    "Figure 8 shows all the adjacency patterns. Below, an encoding of all the possible adjacency patterns:"
   ]
  },
  {
   "cell_type": "code",
   "execution_count": 2,
   "id": "0553fc84",
   "metadata": {},
   "outputs": [],
   "source": [
    "adjacency_pattern_1 = ([0],[0,1],[1,2],[2,3])\n",
    "adjacency_pattern_2 = ([0,1,2],[1],[2,3],[3]) \n",
    "adjacency_pattern_3 = ([0,1,2],[0],[1],[2,3])\n",
    "adjacency_pattern_4 = ([0,1,2],[0],[0,3],[3])\n",
    "adjacency_pattern_5 = ([0,1,2],[0],[0,3],[2])\n",
    "\n",
    "# adjacency patterns:\n",
    "adjacency_patterns = [adjacency_pattern_1, \n",
    "                      adjacency_pattern_2, \n",
    "                      adjacency_pattern_3, \n",
    "                      adjacency_pattern_4, \n",
    "                      adjacency_pattern_5]"
   ]
  },
  {
   "cell_type": "markdown",
   "id": "acea6163",
   "metadata": {},
   "source": [
    "The directed adjacencies corresponding to an adjacency pattern are the two possible choices of $X$ and $Y$. \n",
    "\n",
    "`reflexion(adjp)` inverts the sets $X$ and $Y$ in an adjacency pattern `adjp` "
   ]
  },
  {
   "cell_type": "code",
   "execution_count": 3,
   "id": "589ffbf3",
   "metadata": {},
   "outputs": [],
   "source": [
    "def reflexion(adjp):\n",
    "    reflected = [[] for i in adjp]\n",
    "    for i in range(len(adjp)):\n",
    "        for j in adjp[i]:\n",
    "            reflected[j].append(i)\n",
    "    return tuple(reflected)\n",
    "\n",
    "\n",
    "# directed adjacencies  (note that adjacencies 1 and 5 are symmetric under reflexion):\n",
    "directed_adjacencies = [adjacency_pattern_1, \n",
    "                        adjacency_pattern_2, reflexion(adjacency_pattern_2), \n",
    "                        adjacency_pattern_3, reflexion(adjacency_pattern_3), \n",
    "                        adjacency_pattern_4, reflexion(adjacency_pattern_4), \n",
    "                        adjacency_pattern_5] "
   ]
  },
  {
   "cell_type": "markdown",
   "id": "bd6e3a4d",
   "metadata": {},
   "source": [
    "The labelled adjacencies corresponding to a directed adjacency are obtained by taking all possible labellings of $X$ and $Y$.\n",
    "\n",
    "Given two permutations `perm_X` and `perm_Y` and a directed adjacency `dadj`, the following function returns the labelled adjacency between $X$ and $Y$, where $X$ was relabelled according to `perm_X` and $Y$ according to `perm_Y`."
   ]
  },
  {
   "cell_type": "code",
   "execution_count": 4,
   "id": "a9c76d44",
   "metadata": {},
   "outputs": [],
   "source": [
    "def labelled_adjacency(dadj,perm_X,perm_Y):\n",
    "    l = []\n",
    "    for i in range(len(dadj)):\n",
    "        l.append([perm_X[j] for j in dadj[perm_Y[i]]])\n",
    "    return l\n"
   ]
  },
  {
   "cell_type": "markdown",
   "id": "9e922e53",
   "metadata": {},
   "source": [
    "# Triangle testing"
   ]
  },
  {
   "cell_type": "markdown",
   "id": "400f9d5d",
   "metadata": {},
   "source": [
    "Given three colour classes $A$, $B$ and $C$ and their pairwise labelled adjacencies, the following function tests whether the labelled adjacencies of three sets span a triangle"
   ]
  },
  {
   "cell_type": "code",
   "execution_count": 5,
   "id": "3d519f69",
   "metadata": {},
   "outputs": [],
   "source": [
    "def contains_triangle(adjAB,adjBC,adjAC):\n",
    "    m=len(adjAB)\n",
    "    for u in range(m): # u in A\n",
    "        for v in adjAB[u]: # v in N(u) and B\n",
    "            for w in adjBC[v]: # w in N(v) and C\n",
    "                if w in adjAC[u]:\n",
    "                    return True\n",
    "    return False"
   ]
  },
  {
   "cell_type": "markdown",
   "id": "60e42d82",
   "metadata": {},
   "source": [
    "# Listing all frozen 3-colourings\n",
    "\n",
    "To list all possible frozen 3-colorings with colour classes $A$, $B$ and $C$ of size four, we proceed as follows:\n",
    "1. choose the adjacency pattern between $A$ and $B$. To avoid considering all symmetries, we fix $A$ and $B$ and their respective labellings accordingly. \n",
    "2. choose the labelled adjacency between $A$ and $C$ (that corresponds to two choices: the choice of the directed adjacency and the choice of the permutation of the labels of $A$). We fix the labelling of $C$ accordingly.\n",
    "3. choose a labelled adjacency between $B$ and $C$ (that corresponds to three choices: the choice of the directed adjacency and the choice of the permutations of the labels of $B$ and that of $C$).\n",
    "\n",
    "The following function implements this procedure, to enumerate all the possible extensions of an adjacency pattern between $A$ and $B$ into a frozen 3-colouring and tests which are triangle-free. Keeping track of the chosen adjacency pattern between $A$ and $B$ allows us to check which of them can actually appear in a frozen $k$-colouring without creating triangles. \n",
    "\n",
    "`three_extendable_AB_adjacencies` is a list containing all adjacency patterns that can be extended into a triangle-free frozen 3-colouring.\n",
    "\n",
    "`three_colourings` is a list of list. If some adjacency pattern `adjpAB` is the $i$-th element of `three_extendable_AB_adjacencies`, then `three_colourings[i]` contains all the valid extensions of `adjpAB` into a triangle-free 3-colouring, encoded as a 3-tuple containing the three labelled adjacencies."
   ]
  },
  {
   "cell_type": "code",
   "execution_count": 6,
   "id": "505f7d29",
   "metadata": {},
   "outputs": [],
   "source": [
    "def list_three_colourings():\n",
    "    three_extendable_AB_adjacencies = [] \n",
    "    three_colourings = [] \n",
    "    \n",
    "    for adjpAB in adjacency_patterns: # step 1\n",
    "        adjAB = adjpAB\n",
    "        extensions_adjpAB = []\n",
    "        for dadjAC in directed_adjacencies: # step 2\n",
    "            for permA in perms:\n",
    "                adjAC = labelled_adjacency(dadjAC, permA, perms[0]) # perms[0] is the identity\n",
    "                for dadjBC in directed_adjacencies: # step 3 \n",
    "                    for permB in perms:\n",
    "                        for permC in perms:\n",
    "                            adjBC = labelled_adjacency(dadjBC, permB, permC)\n",
    "                            if not contains_triangle(adjAB,adjBC,adjAC): # checking triangle-freeness\n",
    "                                extensions_adjpAB.append((adjAB,adjBC,adjAC))\n",
    "        if len(extensions_adjpAB) > 0:\n",
    "            three_extendable_AB_adjacencies.append(adjpAB)\n",
    "            three_colourings.append(extensions_adjpAB)\n",
    "    return (three_extendable_AB_adjacencies,three_colourings)"
   ]
  },
  {
   "cell_type": "markdown",
   "id": "1ad32adc",
   "metadata": {},
   "source": [
    "We can now run it and check which adjacency patterns can be used in a frozen 3-colouring without creating a triangle: the adjacency patterns 1, 3 and 5"
   ]
  },
  {
   "cell_type": "code",
   "execution_count": 7,
   "id": "01287518",
   "metadata": {},
   "outputs": [
    {
     "name": "stdout",
     "output_type": "stream",
     "text": [
      "[([0], [0, 1], [1, 2], [2, 3]), ([0, 1, 2], [0], [1], [2, 3]), ([0, 1, 2], [0], [0, 3], [2])]\n"
     ]
    }
   ],
   "source": [
    "three_extendable_AB_adjacencies,three_colourings = list_three_colourings()\n",
    "print(three_extendable_AB_adjacencies)"
   ]
  },
  {
   "cell_type": "markdown",
   "id": "117b8823",
   "metadata": {},
   "source": [
    "# Listing all frozen 4-colourings\n",
    "\n",
    "As the adjacency patterns 2 and 4 cannot appear in a frozen 3-colouring of a triangle-free graph, they also do not appear in a frozen 4-colouring. Therefore we can update the considered adjacency patterns."
   ]
  },
  {
   "cell_type": "code",
   "execution_count": 8,
   "id": "4c4d27ef",
   "metadata": {},
   "outputs": [],
   "source": [
    "new_directed_adjacencies = [adjacency_pattern_1, \n",
    "                            adjacency_pattern_3, reflexion(adjacency_pattern_3), \n",
    "                            adjacency_pattern_5]"
   ]
  },
  {
   "cell_type": "markdown",
   "id": "2cfd1e96",
   "metadata": {},
   "source": [
    "To list all the possible frozen 4-colorings with colour classes $A$, $B$, $C$ and $D$ of size four, we proceed similarly as before:\n",
    "1. choose the adjacency pattern between $A$ and $B$. To avoid considering all symmetries, we fix $A$ and $B$ and their respective labellings accordingly. \n",
    "2. choose the frozen 3-colouring induced by $A$, $B$ and $C$ that extends the labelled adjacency between $A$ and $B$. We fix the labelling of $C$ accordingly.\n",
    "3. choose the frozen 4-colouring induced by $A$, $B$ and $D$ that extends the labelled adjacency between $A$ and $B$. We fix the labelling of $D$ accordingly.\n",
    "4. choose the labelled adjacency between $C$ and $D$ (this correponds to three choices: the directed adjacency between $C$ and $D$, and the choice of permutation of the labels of $C$ and $D$).\n",
    "\n",
    "The following function implements this procedure, to enumerate all the possible extensions of an adjacency pattern between $A$ and $B$ into a frozen 3-colouring and test which are triangle-free. Again, keeping track of the chosen adjacency pattern between $A$ and $B$ allows us to check which of them can actually appear in a frozen $k$-colouring without creating a triangle. "
   ]
  },
  {
   "cell_type": "code",
   "execution_count": 9,
   "id": "fad4b39b",
   "metadata": {},
   "outputs": [],
   "source": [
    "def list_four_colourings():\n",
    "    four_extendable_AB_adjacencies = [] \n",
    "    four_colourings = []\n",
    "    for AB in range(len(three_extendable_AB_adjacencies)): # step 1\n",
    "        adjAB = three_extendable_AB_adjacencies[AB]\n",
    "        extensions_adjAB = []\n",
    "        for three_colouring_ABC in three_colourings[AB]: # step 2\n",
    "            adjBC = three_colouring_ABC[1]\n",
    "            adjAC = three_colouring_ABC[2]\n",
    "            for three_colouring_ABD in three_colourings[AB]: # step 3\n",
    "                adjBD=three_colouring_ABD[1]\n",
    "                adjAD=three_colouring_ABD[2]\n",
    "                for dadjCD in new_directed_adjacencies: # step 4\n",
    "                    for permC in perms:\n",
    "                        for permD in perms:\n",
    "                            adjCD= labelled_adjacency(dadjCD, permC, permD)\n",
    "                            if not (contains_triangle(adjAC,adjCD,adjAD) or\n",
    "                                contains_triangle(adjBC,adjCD,adjBD)): # checking triangle-freeness\n",
    "                                extensions_adjAB.append((adjAB,adjAC,adjAD,\n",
    "                                                        adjBC,adjBD,adjCD)) \n",
    "        if len(extensions_adjAB) > 0:\n",
    "            four_extendable_AB_adjacencies.append(adjAB)\n",
    "            four_colourings.append(extensions_adjAB)\n",
    "    return (four_extendable_AB_adjacencies,four_colourings)"
   ]
  },
  {
   "cell_type": "markdown",
   "id": "f15b7604",
   "metadata": {},
   "source": [
    "We can now run it and check which adjacency patterns can be used in a frozen 4-colouring without creating a triangle: None of them! This proves that there exists no triangle-free graph with a frozen colouring with four colour classes of size four."
   ]
  },
  {
   "cell_type": "code",
   "execution_count": 10,
   "id": "9a83b128",
   "metadata": {},
   "outputs": [
    {
     "name": "stdout",
     "output_type": "stream",
     "text": [
      "[]\n"
     ]
    }
   ],
   "source": [
    "four_extendable_AB_adjacencies,four_colourings = list_four_colourings()\n",
    "print(four_extendable_AB_adjacencies)"
   ]
  }
 ],
 "metadata": {
  "kernelspec": {
   "display_name": "Python 3 (ipykernel)",
   "language": "python",
   "name": "python3"
  },
  "language_info": {
   "codemirror_mode": {
    "name": "ipython",
    "version": 3
   },
   "file_extension": ".py",
   "mimetype": "text/x-python",
   "name": "python",
   "nbconvert_exporter": "python",
   "pygments_lexer": "ipython3",
   "version": "3.12.3"
  }
 },
 "nbformat": 4,
 "nbformat_minor": 5
}
